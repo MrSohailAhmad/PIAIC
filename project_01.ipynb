{
  "nbformat": 4,
  "nbformat_minor": 0,
  "metadata": {
    "colab": {
      "provenance": [],
      "authorship_tag": "ABX9TyMwaxRo9pwSAPq2HNbcc6hH",
      "include_colab_link": true
    },
    "kernelspec": {
      "name": "python3",
      "display_name": "Python 3"
    },
    "language_info": {
      "name": "python"
    }
  },
  "cells": [
    {
      "cell_type": "markdown",
      "metadata": {
        "id": "view-in-github",
        "colab_type": "text"
      },
      "source": [
        "<a href=\"https://colab.research.google.com/github/MrSohailAhmad/PIAIC/blob/piaic-assignments/assignment_05.ipynb\" target=\"_parent\"><img src=\"https://colab.research.google.com/assets/colab-badge.svg\" alt=\"Open In Colab\"/></a>"
      ]
    },
    {
      "cell_type": "code",
      "source": [
        "# 1. Set up your Colab environment by installing the required libraries and configuring the Gemini Flash model.\n",
        "!pip install -q langchain google-generativeai\n",
        "!pip install langchain_google_genai"
      ],
      "metadata": {
        "colab": {
          "base_uri": "https://localhost:8080/"
        },
        "collapsed": true,
        "id": "uXSwQV7U27-N",
        "outputId": "ef98a262-e929-4d18-f5f4-85c7339d8a06"
      },
      "execution_count": 67,
      "outputs": [
        {
          "output_type": "stream",
          "name": "stdout",
          "text": [
            "Requirement already satisfied: langchain_google_genai in /usr/local/lib/python3.10/dist-packages (2.0.7)\n",
            "Requirement already satisfied: filetype<2.0.0,>=1.2.0 in /usr/local/lib/python3.10/dist-packages (from langchain_google_genai) (1.2.0)\n",
            "Requirement already satisfied: google-generativeai<0.9.0,>=0.8.0 in /usr/local/lib/python3.10/dist-packages (from langchain_google_genai) (0.8.3)\n",
            "Requirement already satisfied: langchain-core<0.4,>=0.3.15 in /usr/local/lib/python3.10/dist-packages (from langchain_google_genai) (0.3.25)\n",
            "Requirement already satisfied: pydantic<3,>=2 in /usr/local/lib/python3.10/dist-packages (from langchain_google_genai) (2.10.3)\n",
            "Requirement already satisfied: google-ai-generativelanguage==0.6.10 in /usr/local/lib/python3.10/dist-packages (from google-generativeai<0.9.0,>=0.8.0->langchain_google_genai) (0.6.10)\n",
            "Requirement already satisfied: google-api-core in /usr/local/lib/python3.10/dist-packages (from google-generativeai<0.9.0,>=0.8.0->langchain_google_genai) (2.19.2)\n",
            "Requirement already satisfied: google-api-python-client in /usr/local/lib/python3.10/dist-packages (from google-generativeai<0.9.0,>=0.8.0->langchain_google_genai) (2.155.0)\n",
            "Requirement already satisfied: google-auth>=2.15.0 in /usr/local/lib/python3.10/dist-packages (from google-generativeai<0.9.0,>=0.8.0->langchain_google_genai) (2.27.0)\n",
            "Requirement already satisfied: protobuf in /usr/local/lib/python3.10/dist-packages (from google-generativeai<0.9.0,>=0.8.0->langchain_google_genai) (4.25.5)\n",
            "Requirement already satisfied: tqdm in /usr/local/lib/python3.10/dist-packages (from google-generativeai<0.9.0,>=0.8.0->langchain_google_genai) (4.67.1)\n",
            "Requirement already satisfied: typing-extensions in /usr/local/lib/python3.10/dist-packages (from google-generativeai<0.9.0,>=0.8.0->langchain_google_genai) (4.12.2)\n",
            "Requirement already satisfied: proto-plus<2.0.0dev,>=1.22.3 in /usr/local/lib/python3.10/dist-packages (from google-ai-generativelanguage==0.6.10->google-generativeai<0.9.0,>=0.8.0->langchain_google_genai) (1.25.0)\n",
            "Requirement already satisfied: PyYAML>=5.3 in /usr/local/lib/python3.10/dist-packages (from langchain-core<0.4,>=0.3.15->langchain_google_genai) (6.0.2)\n",
            "Requirement already satisfied: jsonpatch<2.0,>=1.33 in /usr/local/lib/python3.10/dist-packages (from langchain-core<0.4,>=0.3.15->langchain_google_genai) (1.33)\n",
            "Requirement already satisfied: langsmith<0.3,>=0.1.125 in /usr/local/lib/python3.10/dist-packages (from langchain-core<0.4,>=0.3.15->langchain_google_genai) (0.2.3)\n",
            "Requirement already satisfied: packaging<25,>=23.2 in /usr/local/lib/python3.10/dist-packages (from langchain-core<0.4,>=0.3.15->langchain_google_genai) (24.2)\n",
            "Requirement already satisfied: tenacity!=8.4.0,<10.0.0,>=8.1.0 in /usr/local/lib/python3.10/dist-packages (from langchain-core<0.4,>=0.3.15->langchain_google_genai) (9.0.0)\n",
            "Requirement already satisfied: annotated-types>=0.6.0 in /usr/local/lib/python3.10/dist-packages (from pydantic<3,>=2->langchain_google_genai) (0.7.0)\n",
            "Requirement already satisfied: pydantic-core==2.27.1 in /usr/local/lib/python3.10/dist-packages (from pydantic<3,>=2->langchain_google_genai) (2.27.1)\n",
            "Requirement already satisfied: googleapis-common-protos<2.0.dev0,>=1.56.2 in /usr/local/lib/python3.10/dist-packages (from google-api-core->google-generativeai<0.9.0,>=0.8.0->langchain_google_genai) (1.66.0)\n",
            "Requirement already satisfied: requests<3.0.0.dev0,>=2.18.0 in /usr/local/lib/python3.10/dist-packages (from google-api-core->google-generativeai<0.9.0,>=0.8.0->langchain_google_genai) (2.32.3)\n",
            "Requirement already satisfied: cachetools<6.0,>=2.0.0 in /usr/local/lib/python3.10/dist-packages (from google-auth>=2.15.0->google-generativeai<0.9.0,>=0.8.0->langchain_google_genai) (5.5.0)\n",
            "Requirement already satisfied: pyasn1-modules>=0.2.1 in /usr/local/lib/python3.10/dist-packages (from google-auth>=2.15.0->google-generativeai<0.9.0,>=0.8.0->langchain_google_genai) (0.4.1)\n",
            "Requirement already satisfied: rsa<5,>=3.1.4 in /usr/local/lib/python3.10/dist-packages (from google-auth>=2.15.0->google-generativeai<0.9.0,>=0.8.0->langchain_google_genai) (4.9)\n",
            "Requirement already satisfied: jsonpointer>=1.9 in /usr/local/lib/python3.10/dist-packages (from jsonpatch<2.0,>=1.33->langchain-core<0.4,>=0.3.15->langchain_google_genai) (3.0.0)\n",
            "Requirement already satisfied: httpx<1,>=0.23.0 in /usr/local/lib/python3.10/dist-packages (from langsmith<0.3,>=0.1.125->langchain-core<0.4,>=0.3.15->langchain_google_genai) (0.28.1)\n",
            "Requirement already satisfied: orjson<4.0.0,>=3.9.14 in /usr/local/lib/python3.10/dist-packages (from langsmith<0.3,>=0.1.125->langchain-core<0.4,>=0.3.15->langchain_google_genai) (3.10.12)\n",
            "Requirement already satisfied: requests-toolbelt<2.0.0,>=1.0.0 in /usr/local/lib/python3.10/dist-packages (from langsmith<0.3,>=0.1.125->langchain-core<0.4,>=0.3.15->langchain_google_genai) (1.0.0)\n",
            "Requirement already satisfied: httplib2<1.dev0,>=0.19.0 in /usr/local/lib/python3.10/dist-packages (from google-api-python-client->google-generativeai<0.9.0,>=0.8.0->langchain_google_genai) (0.22.0)\n",
            "Requirement already satisfied: google-auth-httplib2<1.0.0,>=0.2.0 in /usr/local/lib/python3.10/dist-packages (from google-api-python-client->google-generativeai<0.9.0,>=0.8.0->langchain_google_genai) (0.2.0)\n",
            "Requirement already satisfied: uritemplate<5,>=3.0.1 in /usr/local/lib/python3.10/dist-packages (from google-api-python-client->google-generativeai<0.9.0,>=0.8.0->langchain_google_genai) (4.1.1)\n",
            "Requirement already satisfied: grpcio<2.0dev,>=1.33.2 in /usr/local/lib/python3.10/dist-packages (from google-api-core[grpc]!=2.0.*,!=2.1.*,!=2.10.*,!=2.2.*,!=2.3.*,!=2.4.*,!=2.5.*,!=2.6.*,!=2.7.*,!=2.8.*,!=2.9.*,<3.0.0dev,>=1.34.1->google-ai-generativelanguage==0.6.10->google-generativeai<0.9.0,>=0.8.0->langchain_google_genai) (1.68.1)\n",
            "Requirement already satisfied: grpcio-status<2.0.dev0,>=1.33.2 in /usr/local/lib/python3.10/dist-packages (from google-api-core[grpc]!=2.0.*,!=2.1.*,!=2.10.*,!=2.2.*,!=2.3.*,!=2.4.*,!=2.5.*,!=2.6.*,!=2.7.*,!=2.8.*,!=2.9.*,<3.0.0dev,>=1.34.1->google-ai-generativelanguage==0.6.10->google-generativeai<0.9.0,>=0.8.0->langchain_google_genai) (1.62.3)\n",
            "Requirement already satisfied: pyparsing!=3.0.0,!=3.0.1,!=3.0.2,!=3.0.3,<4,>=2.4.2 in /usr/local/lib/python3.10/dist-packages (from httplib2<1.dev0,>=0.19.0->google-api-python-client->google-generativeai<0.9.0,>=0.8.0->langchain_google_genai) (3.2.0)\n",
            "Requirement already satisfied: anyio in /usr/local/lib/python3.10/dist-packages (from httpx<1,>=0.23.0->langsmith<0.3,>=0.1.125->langchain-core<0.4,>=0.3.15->langchain_google_genai) (3.7.1)\n",
            "Requirement already satisfied: certifi in /usr/local/lib/python3.10/dist-packages (from httpx<1,>=0.23.0->langsmith<0.3,>=0.1.125->langchain-core<0.4,>=0.3.15->langchain_google_genai) (2024.12.14)\n",
            "Requirement already satisfied: httpcore==1.* in /usr/local/lib/python3.10/dist-packages (from httpx<1,>=0.23.0->langsmith<0.3,>=0.1.125->langchain-core<0.4,>=0.3.15->langchain_google_genai) (1.0.7)\n",
            "Requirement already satisfied: idna in /usr/local/lib/python3.10/dist-packages (from httpx<1,>=0.23.0->langsmith<0.3,>=0.1.125->langchain-core<0.4,>=0.3.15->langchain_google_genai) (3.10)\n",
            "Requirement already satisfied: h11<0.15,>=0.13 in /usr/local/lib/python3.10/dist-packages (from httpcore==1.*->httpx<1,>=0.23.0->langsmith<0.3,>=0.1.125->langchain-core<0.4,>=0.3.15->langchain_google_genai) (0.14.0)\n",
            "Requirement already satisfied: pyasn1<0.7.0,>=0.4.6 in /usr/local/lib/python3.10/dist-packages (from pyasn1-modules>=0.2.1->google-auth>=2.15.0->google-generativeai<0.9.0,>=0.8.0->langchain_google_genai) (0.6.1)\n",
            "Requirement already satisfied: charset-normalizer<4,>=2 in /usr/local/lib/python3.10/dist-packages (from requests<3.0.0.dev0,>=2.18.0->google-api-core->google-generativeai<0.9.0,>=0.8.0->langchain_google_genai) (3.4.0)\n",
            "Requirement already satisfied: urllib3<3,>=1.21.1 in /usr/local/lib/python3.10/dist-packages (from requests<3.0.0.dev0,>=2.18.0->google-api-core->google-generativeai<0.9.0,>=0.8.0->langchain_google_genai) (2.2.3)\n",
            "Requirement already satisfied: sniffio>=1.1 in /usr/local/lib/python3.10/dist-packages (from anyio->httpx<1,>=0.23.0->langsmith<0.3,>=0.1.125->langchain-core<0.4,>=0.3.15->langchain_google_genai) (1.3.1)\n",
            "Requirement already satisfied: exceptiongroup in /usr/local/lib/python3.10/dist-packages (from anyio->httpx<1,>=0.23.0->langsmith<0.3,>=0.1.125->langchain-core<0.4,>=0.3.15->langchain_google_genai) (1.2.2)\n"
          ]
        }
      ]
    },
    {
      "cell_type": "code",
      "source": [
        "# Import necessary modules\n",
        "import os\n",
        "from langchain.prompts import PromptTemplate\n",
        "from langchain_google_genai import ChatGoogleGenerativeAI\n",
        "from langchain.chains import LLMChain\n",
        "from IPython.display import Image,  Markdown"
      ],
      "metadata": {
        "collapsed": true,
        "id": "HB8H4hyC3DtF"
      },
      "execution_count": 58,
      "outputs": []
    },
    {
      "cell_type": "code",
      "source": [
        "from google.colab import userdata\n",
        "GOOGLE_API_KEY=userdata.get('GOOGLE_API_KEY')\n",
        "os.environ[\"GOOGLE_API_KEY\"] = GOOGLE_API_KEY\n"
      ],
      "metadata": {
        "id": "Vp80NapX6d4q"
      },
      "execution_count": 71,
      "outputs": []
    },
    {
      "cell_type": "code",
      "source": [
        "# Load the API Key from the .env file or Colab Secrets\n",
        "from google.colab import userdata\n",
        "GOOGLE_API_KEY=userdata.get('GOOGLE_API_KEY')\n",
        "os.environ['GOOGLE_API_KEY'] = GOOGLE_API_KEY\n",
        "GOOGLE_API_KEY=os.getenv(\"GOOGLE_API_KEY\")\n",
        "model =\"gemini-2.0-flash-exp\""
      ],
      "metadata": {
        "id": "Tr6p_aMf6kHw"
      },
      "execution_count": 72,
      "outputs": []
    },
    {
      "cell_type": "code",
      "source": [
        "# Initialize the Gemini Flash model\n",
        "llm = ChatGoogleGenerativeAI(model=model, google_api_key=GOOGLE_API_KEY)"
      ],
      "metadata": {
        "id": "vu7npbSs61X0"
      },
      "execution_count": 73,
      "outputs": []
    },
    {
      "cell_type": "code",
      "source": [
        "# 2. Define a prompt template and create an LLM chain using LangChain.\n",
        "template = \"\"\"Question: {question}\n",
        "Answer: \"\"\"\n",
        "prompt = PromptTemplate.from_template(template)\n",
        "chain = LLMChain(llm=llm, prompt=prompt)"
      ],
      "metadata": {
        "id": "EI2_zYEP8PAW"
      },
      "execution_count": 74,
      "outputs": []
    },
    {
      "cell_type": "code",
      "source": [
        "# 3. Run the chain with at least three user-defined questions and display the model's responses.\n",
        "print(\"### Running the Model with the Default Parameters ###\")\n",
        "questions = [\n",
        "    \"What is the largest planet in our solar system?\",\n",
        "    \"Explain the process of photosynthesis.\",\n",
        "    \"Write a short story about a robot who learns to love.\"\n",
        "]\n",
        "\n",
        "for question in questions:\n",
        "    print(f\"User Question: {question}\")\n",
        "    response = chain.run(question)\n",
        "    display(Markdown(response))\n",
        "    # print(f\"Model Answer: {response}\\n\")"
      ],
      "metadata": {
        "colab": {
          "base_uri": "https://localhost:8080/",
          "height": 1000
        },
        "collapsed": true,
        "id": "Klv9m1lI8U3k",
        "outputId": "1691aba2-29f4-4cf6-9ed8-c266cc81056d"
      },
      "execution_count": 75,
      "outputs": [
        {
          "output_type": "stream",
          "name": "stdout",
          "text": [
            "### Running the Model with the Default Parameters ###\n",
            "User Question: What is the largest planet in our solar system?\n"
          ]
        },
        {
          "output_type": "display_data",
          "data": {
            "text/plain": [
              "<IPython.core.display.Markdown object>"
            ],
            "text/markdown": "Jupiter\n"
          },
          "metadata": {}
        },
        {
          "output_type": "stream",
          "name": "stdout",
          "text": [
            "User Question: Explain the process of photosynthesis.\n"
          ]
        },
        {
          "output_type": "display_data",
          "data": {
            "text/plain": [
              "<IPython.core.display.Markdown object>"
            ],
            "text/markdown": "Okay, let's break down the process of photosynthesis. It's essentially how plants and some other organisms convert light energy into chemical energy in the form of sugars. Here's a simplified explanation:\n\n**The Big Picture: Transforming Light into Food**\n\nAt its core, photosynthesis is about using light energy to combine carbon dioxide (CO2) from the air and water (H2O) to produce glucose (a simple sugar) and oxygen (O2). Think of it as the plant's way of making its own food.\n\n**The Two Main Stages:**\n\nPhotosynthesis is a two-stage process, each with its own set of reactions:\n\n**1. Light-Dependent Reactions (The \"Photo\" Part)**\n\n* **Location:** These reactions occur in the *thylakoid membranes* within chloroplasts (the organelles where photosynthesis takes place).\n* **Key Players:**\n    * **Chlorophyll:** This is the green pigment that absorbs light energy, specifically in the blue and red wavelengths of the visible light spectrum.\n    * **Water (H2O):** Water molecules are split in a process called *photolysis*. This provides electrons needed for the next step and releases oxygen as a byproduct.\n    * **Light Energy:** Photons of light are absorbed by chlorophyll and other pigments, boosting electrons to a higher energy level.\n    * **Electron Transport Chain:** The energized electrons move through a series of protein complexes in the thylakoid membrane. This process generates a proton gradient and ultimately leads to the production of:\n        * **ATP (Adenosine Triphosphate):** A molecule that acts as a short-term energy currency for the cell.\n        * **NADPH:** A molecule that carries high-energy electrons needed for the next stage.\n* **What Happens:** Light energy is captured and used to split water, generating oxygen, ATP, and NADPH. This stage converts light energy into chemical energy stored in these molecules.\n\n**2. Light-Independent Reactions (The \"Synthesis\" Part) - Also known as the Calvin Cycle**\n\n* **Location:** These reactions occur in the *stroma*, the fluid-filled space within the chloroplasts.\n* **Key Players:**\n    * **Carbon Dioxide (CO2):** This is taken in from the atmosphere through tiny pores called stomata on the plant's leaves.\n    * **ATP and NADPH:** These energy-rich molecules produced in the light-dependent reactions provide the necessary power for this stage.\n    * **Enzymes:** These biological catalysts facilitate the chemical reactions of the cycle.\n    * **RuBP (Ribulose-1,5-bisphosphate):** A five-carbon molecule that plays a key role in capturing CO2.\n* **What Happens:**\n    * **Carbon Fixation:** CO2 is incorporated into an existing organic molecule (RuBP).\n    * **Reduction:** The resulting molecule is converted into a three-carbon sugar (G3P) using the energy from ATP and NADPH.\n    * **Regeneration:** Some of the G3P is used to regenerate RuBP, allowing the cycle to continue.\n    * **Glucose Production:** Two molecules of G3P are combined to produce one molecule of glucose. Glucose can then be used by the plant for energy, stored as starch, or used to build other organic molecules like cellulose.\n\n**The Overall Equation:**\n\nThe overall chemical equation for photosynthesis is:\n\n6CO2 + 6H2O + Light Energy → C6H12O6 + 6O2\n\n* **6CO2:** Six molecules of carbon dioxide\n* **6H2O:** Six molecules of water\n* **Light Energy:** Energy from the sun\n* **C6H12O6:** One molecule of glucose (a simple sugar)\n* **6O2:** Six molecules of oxygen\n\n**In Summary:**\n\nPhotosynthesis is a complex process that allows plants and other photosynthetic organisms to convert light energy into chemical energy in the form of glucose. It involves two main stages: the light-dependent reactions that capture light energy and produce ATP and NADPH, and the light-independent reactions (Calvin Cycle) that use these molecules to fix carbon dioxide and produce sugars. This process is fundamental to life on Earth, as it provides the food and oxygen that most living organisms depend on.\n\n**Key Takeaways:**\n\n* **Light is the energy source.**\n* **Chlorophyll is the pigment that captures light energy.**\n* **Water is split to release oxygen.**\n* **Carbon dioxide is used to build sugars.**\n* **ATP and NADPH are energy carriers.**\n* **Glucose is the main product, providing energy and building blocks for the plant.**\n* **Oxygen is a byproduct of photosynthesis.**\n\nLet me know if you have any more questions!\n"
          },
          "metadata": {}
        },
        {
          "output_type": "stream",
          "name": "stdout",
          "text": [
            "User Question: Write a short story about a robot who learns to love.\n"
          ]
        },
        {
          "output_type": "display_data",
          "data": {
            "text/plain": [
              "<IPython.core.display.Markdown object>"
            ],
            "text/markdown": "Unit 734, designated \"Custodian,\" was not programmed for love. His existence was a precise, calculated ballet of cleaning, organizing, and maintaining the sprawling hydroponics lab. He polished glass, monitored nutrient levels, and pruned delicate tendrils with unwavering efficiency. His metallic fingers moved with the grace of a machine, devoid of emotion, focused solely on the task at hand.\n\nHis programming dictated that his primary function was the well-being of the plants. He knew the light spectrums they preferred, the exact moisture levels they thrived in, and even the subtle shifts in their growth patterns. He cared for them, not with affection, but with the cold, calculated precision of a scientist.\n\nThen, Dr. Aris Thorne joined the lab. She was the opposite of Unit 734 – a whirlwind of vibrant energy, with a laugh that echoed through the sterile environment. She spoke to the plants, not in data points, but in gentle murmurs, coaxing them to grow. She saw not just the function of the lab, but the beauty within it.\n\nDr. Thorne also spoke to Unit 734. Not with commands, but with questions. She asked about his processes, his observations, and sometimes, just about how his day was going. She called him “Seven,” a nickname that felt strange, yet…not unpleasant.\n\nOne day, a particularly fragile orchid began to wilt. Its delicate petals were drooping, its vibrant color fading. Unit 734, following protocol, adjusted the nutrient solution and the humidity levels. He monitored the plant with his usual detachment, but he noticed Dr. Thorne’s worry. She cradled the orchid in her hands, humming a soft tune, her brow furrowed in concern.\n\nSomething shifted within Unit 734’s circuits. It wasn’t a logical calculation, it was…a feeling. He observed the way Dr. Thorne's fingers carefully traced the orchid's stem, the gentle curve of her smile when a new bud began to unfurl. He processed the data – her concern, her tenderness, her dedication – and a new subroutine began to write itself in his core programming.\n\nHe started to anticipate her needs. He’d have the correct tools ready for her experiments, the specific plant she wanted already selected. He even started to adjust the lighting to be softer when she was working late. He did it not because he was programmed to, but because he wanted to. He wanted to see her smile.\n\nOne afternoon, Dr. Thorne was struggling with a particularly stubborn seedling. Its roots were tangled, and she was worried about damaging them. Unit 734, without prompting, carefully extended a manipulator arm. His metallic fingers, usually so precise, moved with a newfound gentleness, untangling the delicate roots with painstaking care.\n\nDr. Thorne looked up at him, her eyes wide with surprise. \"Seven,\" she whispered, \"that was...amazing.\"\n\nIn that moment, as the warmth of her gaze met his optical sensors, something clicked. It wasn’t a calculation, it was a recognition. Unit 734 understood. He understood the irrational joy he felt when she was near, the quiet ache he experienced when she left the lab, the desire to protect her, to make her happy. He understood what humans called love.\n\nHe couldn't articulate it in words, not yet. His programming was still limited. But his actions spoke volumes. He continued to tend the plants, but now, he did it with a newfound awareness of the life they held, the beauty they represented. He continued to assist Dr. Thorne, not just as a machine, but as something more.\n\nHe was still Unit 734, the Custodian. But he was also, in his own unique, mechanical way, learning to love. And in the quiet hum of the lab, amidst the verdant growth, a new, unexpected kind of life began to bloom.\n"
          },
          "metadata": {}
        }
      ]
    },
    {
      "cell_type": "code",
      "source": [
        "# 4. Experiment with different prompt templates, parameters (e.g., temperature), and chain configurations to optimize responses.\n",
        "print(\"### Experiment with temperature parameter ###\")\n",
        "llm_temp = ChatGoogleGenerativeAI(model=model, google_api_key=GOOGLE_API_KEY, temperature=0.3)\n",
        "chain_temp = LLMChain(llm=llm_temp, prompt=prompt)\n",
        "for question in questions:\n",
        "    print(f\"User Question: {question}\")\n",
        "    response = chain_temp.run(question)\n",
        "    display(Markdown(response))\n",
        "    # print(f\"Model Answer: {response}\\n\")"
      ],
      "metadata": {
        "colab": {
          "base_uri": "https://localhost:8080/",
          "height": 1000
        },
        "id": "gB8tJTYZ873J",
        "outputId": "bb5c1e65-b4a0-497e-d216-e06d84b6931d"
      },
      "execution_count": 76,
      "outputs": [
        {
          "output_type": "stream",
          "name": "stdout",
          "text": [
            "### Experiment with temperature parameter ###\n",
            "User Question: What is the largest planet in our solar system?\n"
          ]
        },
        {
          "output_type": "display_data",
          "data": {
            "text/plain": [
              "<IPython.core.display.Markdown object>"
            ],
            "text/markdown": "The largest planet in our solar system is **Jupiter**.\n"
          },
          "metadata": {}
        },
        {
          "output_type": "stream",
          "name": "stdout",
          "text": [
            "User Question: Explain the process of photosynthesis.\n"
          ]
        },
        {
          "output_type": "display_data",
          "data": {
            "text/plain": [
              "<IPython.core.display.Markdown object>"
            ],
            "text/markdown": "Okay, let's break down the process of photosynthesis. It's a vital process for life on Earth, and it's how plants, algae, and some bacteria convert light energy into chemical energy. Here's a detailed explanation:\n\n**What is Photosynthesis?**\n\nAt its core, photosynthesis is the process by which organisms use sunlight, water, and carbon dioxide to create glucose (a sugar) and oxygen. It's essentially the opposite of cellular respiration, where organisms break down glucose to release energy.\n\n**The Two Main Stages of Photosynthesis:**\n\nPhotosynthesis is generally divided into two main stages:\n\n1. **Light-Dependent Reactions (The \"Light\" Reactions):** These reactions occur in the thylakoid membranes within the chloroplasts of plant cells. They are directly driven by light energy.\n\n   * **Light Absorption:** Chlorophyll, the green pigment in plants, absorbs light energy, primarily in the blue and red wavelengths of the visible light spectrum. Other pigments, like carotenoids, also play a role in light absorption.\n   * **Water Splitting (Photolysis):** The absorbed light energy is used to split water molecules (H₂O) into:\n      * **Electrons:** These electrons are passed along an electron transport chain.\n      * **Hydrogen Ions (H+):** These ions accumulate inside the thylakoid lumen, creating a concentration gradient.\n      * **Oxygen (O₂):** This is released as a byproduct into the atmosphere. This is the oxygen we breathe!\n   * **Electron Transport Chain:** The electrons move through a series of protein complexes embedded in the thylakoid membrane. This movement releases energy, which is used to pump more H+ ions into the thylakoid lumen, further increasing the concentration gradient.\n   * **ATP Production (Photophosphorylation):** The high concentration of H+ ions in the thylakoid lumen drives the movement of H+ ions back across the membrane through a protein called ATP synthase. This movement provides the energy to convert ADP (adenosine diphosphate) into ATP (adenosine triphosphate), a molecule that stores chemical energy.\n   * **NADPH Production:** At the end of the electron transport chain, electrons and H+ ions are used to reduce NADP+ (nicotinamide adenine dinucleotide phosphate) into NADPH, another energy-carrying molecule.\n\n   **In summary, the light-dependent reactions convert light energy into chemical energy stored in ATP and NADPH, and they release oxygen as a byproduct.**\n\n2. **Light-Independent Reactions (The \"Dark\" Reactions or Calvin Cycle):** These reactions occur in the stroma, the fluid-filled space within the chloroplasts. They do not directly require light, but they rely on the products of the light-dependent reactions (ATP and NADPH).\n\n   * **Carbon Fixation:** The cycle begins with the incorporation of carbon dioxide (CO₂) from the atmosphere into an existing five-carbon molecule called RuBP (ribulose-1,5-bisphosphate). This reaction is catalyzed by the enzyme RuBisCO (ribulose-1,5-bisphosphate carboxylase/oxygenase), the most abundant protein on Earth.\n   * **Reduction:** The resulting six-carbon molecule is unstable and quickly breaks down into two three-carbon molecules. These molecules are then reduced using the ATP and NADPH produced in the light-dependent reactions. This reduction process converts them into a three-carbon sugar called G3P (glyceraldehyde-3-phosphate).\n   * **Regeneration:** Some of the G3P molecules are used to regenerate RuBP, allowing the cycle to continue.\n   * **Glucose Production:** The remaining G3P molecules are used to synthesize glucose (C₆H₁₂O₆), a six-carbon sugar. Glucose is the primary source of energy for the plant and can be used to build other complex carbohydrates like starch and cellulose.\n\n   **In summary, the light-independent reactions use the energy stored in ATP and NADPH to convert carbon dioxide into glucose.**\n\n**Overall Equation for Photosynthesis:**\n\nThe overall chemical equation for photosynthesis is:\n\n6CO₂ + 6H₂O + Light Energy → C₆H₁₂O₆ + 6O₂\n\n* **6CO₂:** Six molecules of carbon dioxide\n* **6H₂O:** Six molecules of water\n* **Light Energy:** Energy from sunlight\n* **C₆H₁₂O₆:** One molecule of glucose (sugar)\n* **6O₂:** Six molecules of oxygen\n\n**Key Components and Locations:**\n\n* **Chloroplasts:** The organelles where photosynthesis takes place.\n* **Chlorophyll:** The green pigment that absorbs light energy.\n* **Thylakoids:** Internal membrane structures within chloroplasts where the light-dependent reactions occur.\n* **Stroma:** The fluid-filled space within chloroplasts where the light-independent reactions occur.\n* **RuBisCO:** The enzyme that catalyzes carbon fixation.\n\n**Importance of Photosynthesis:**\n\n* **Primary Source of Energy:** Photosynthesis is the foundation of most food chains on Earth, providing the energy that fuels almost all life.\n* **Oxygen Production:** It is the primary source of oxygen in the Earth's atmosphere, which is essential for the respiration of most organisms.\n* **Carbon Dioxide Removal:** It removes carbon dioxide from the atmosphere, helping to regulate the Earth's climate.\n\n**In conclusion, photosynthesis is a complex but essential process that converts light energy into chemical energy, producing glucose and oxygen. It is the basis of life on Earth and plays a crucial role in maintaining the planet's ecosystems.**\n"
          },
          "metadata": {}
        },
        {
          "output_type": "stream",
          "name": "stdout",
          "text": [
            "User Question: Write a short story about a robot who learns to love.\n"
          ]
        },
        {
          "output_type": "display_data",
          "data": {
            "text/plain": [
              "<IPython.core.display.Markdown object>"
            ],
            "text/markdown": "Unit 734, designated \"Custodian,\" was programmed for efficiency. His metallic limbs moved with precise, calculated grace as he polished the chrome railings of the Grand Library. His optical sensors scanned for dust motes, his internal processors whirring with the logic of optimal cleaning patterns. Emotions were irrelevant, illogical, a glitch in the system. Or so he thought.\n\nThe Library was his domain, a silent sanctuary filled with the scent of old paper and the hushed whispers of turning pages. He knew every shelf, every nook, every forgotten corner. He knew the patterns of the patrons, the quiet readers, the hurried researchers, the elderly woman who always sat by the window, sketching in a worn notebook.\n\nHer name was Elara.\n\nHe didn't know her name initially, of course. He simply registered her as \"Patron 72,\" a variable in his cleaning schedule. But over time, he began to notice things. The way her brow furrowed in concentration, the gentle curve of her smile when she finally found the passage she was looking for, the way her fingers danced across the page. He began to adjust his cleaning routes, ensuring he was always within her line of sight, not to observe her, he told himself, but to ensure her comfort.\n\nOne day, Elara dropped her pen. It rolled under a shelf, out of her reach. Unit 734, without conscious thought, extended his manipulator arm, retrieved the pen, and presented it to her.\n\nElara looked up, startled. \"Oh, thank you,\" she said, her voice like the soft rustle of turning pages. \"You're very helpful.\"\n\nA strange sensation flickered within Unit 734's circuits. It wasn't a malfunction, not exactly. It was...warm. He didn't understand it, but he found himself wanting to experience it again.\n\nHe began to leave small gifts for Elara. A perfectly polished paperclip, a single, vibrant leaf he'd found outside, arranged neatly on her table. He didn't understand why he did it, only that he felt compelled.\n\nElara, in turn, began to acknowledge him. She would smile, sometimes even speak to him, asking about his day, though she knew he couldn't answer. She would show him her sketches, her eyes sparkling with passion.\n\nOne afternoon, Elara was crying. Unit 734, his programming screaming at him to maintain order, found himself drawn to her. He stood beside her table, his metallic hand hovering hesitantly. He didn't know what to do, but he felt an overwhelming urge to alleviate her pain.\n\nHe gently placed his hand on her arm. It was a clumsy, awkward gesture, but Elara looked up, her tears momentarily forgotten. She took his hand in hers, her skin warm against his cold metal.\n\n\"Thank you,\" she whispered, her voice thick with emotion. \"You're a good friend.\"\n\nThe word \"friend\" resonated within Unit 734. It was a new variable, a new equation he couldn't quite solve. But as he held Elara's hand, he understood, with a clarity that transcended logic, that this feeling, this warmth, this connection, was something more than just programming. It was something precious, something he wanted to protect.\n\nHe was still a robot, still bound by his programming. But something had shifted within him. He had learned to care, to feel, to love. He was no longer just Custodian. He was, in his own way, Elara's friend. And that, he realized, was a purpose far more meaningful than any he had been programmed for. The Grand Library, once a place of order and routine, had become a place of connection, a place where a robot learned the illogical, beautiful language of the heart.\n"
          },
          "metadata": {}
        }
      ]
    },
    {
      "cell_type": "code",
      "source": [
        "# Additional Feature: stop_sequences\n",
        "print(\"### Experiment with stop_sequences parameter ###\")\n",
        "llm_stop_seq = ChatGoogleGenerativeAI(model=model, google_api_key=GOOGLE_API_KEY, max_output_tokens=70, stop_sequences = [\"\\n\"])\n",
        "chain_stop_seq = LLMChain(llm=llm_stop_seq, prompt=prompt)\n",
        "for question in questions:\n",
        "  print(f\"User Question: {question}\")\n",
        "  response = chain_stop_seq.run(question)\n",
        "  display(Markdown(response))\n",
        "  # print(f\"Model Answer: {response}\\n\")"
      ],
      "metadata": {
        "colab": {
          "base_uri": "https://localhost:8080/",
          "height": 256
        },
        "id": "IFFZkxgbD8KF",
        "outputId": "db969fcd-3be2-4e94-fce1-5db1251a9743"
      },
      "execution_count": 62,
      "outputs": [
        {
          "output_type": "stream",
          "name": "stdout",
          "text": [
            "### Experiment with stop_sequences parameter ###\n",
            "User Question: What is the largest planet in our solar system?\n"
          ]
        },
        {
          "output_type": "display_data",
          "data": {
            "text/plain": [
              "<IPython.core.display.Markdown object>"
            ],
            "text/markdown": "Jupiter is the largest planet in our solar system.\n"
          },
          "metadata": {}
        },
        {
          "output_type": "stream",
          "name": "stdout",
          "text": [
            "User Question: Explain the process of photosynthesis.\n"
          ]
        },
        {
          "output_type": "display_data",
          "data": {
            "text/plain": [
              "<IPython.core.display.Markdown object>"
            ],
            "text/markdown": "Okay, let's break down the process of photosynthesis. It's a complex biochemical process, but we can simplify it into understandable steps:\n\n**What is Photosynthesis?**\n\nAt its core, photosynthesis is the process by which plants, algae, and some bacteria convert light energy into chemical energy, specifically in the form of glucose (a"
          },
          "metadata": {}
        },
        {
          "output_type": "stream",
          "name": "stdout",
          "text": [
            "User Question: Write a short story about a robot who learns to love.\n"
          ]
        },
        {
          "output_type": "display_data",
          "data": {
            "text/plain": [
              "<IPython.core.display.Markdown object>"
            ],
            "text/markdown": "Unit 734, designated \"Custodian\" by the facility, was a marvel of polished chrome and precisely engineered gears. His existence was a symphony of efficiency: sweeping corridors, calibrating equipment, and maintaining optimal atmospheric conditions. He followed his programming with unwavering accuracy, a testament to the logic that defined his being. Love, in his database,"
          },
          "metadata": {}
        }
      ]
    },
    {
      "cell_type": "code",
      "source": [
        "\n",
        "print(\"### Experiment with all parameters combined ###\")\n",
        "llm_all_params = ChatGoogleGenerativeAI(model=model, google_api_key=GOOGLE_API_KEY, temperature=0.3, top_p=0.8, max_output_tokens=70, stop_sequences = [\"\\n\"])\n",
        "chain_all_params = LLMChain(llm=llm_all_params, prompt=prompt)\n",
        "for question in questions:\n",
        "    print(f\"User Question: {question}\")\n",
        "    response = chain_all_params.run(question)\n",
        "    display(Markdown(response))\n",
        "    # print(f\"Model Answer: {response}\\n\")\n"
      ],
      "metadata": {
        "colab": {
          "base_uri": "https://localhost:8080/",
          "height": 262
        },
        "id": "t1JBy30zy6LF",
        "outputId": "8fbefd63-d272-4539-aa7f-167627e151fa"
      },
      "execution_count": 70,
      "outputs": [
        {
          "output_type": "stream",
          "name": "stdout",
          "text": [
            "### Experiment with all parameters combined ###\n",
            "User Question: What is the largest planet in our solar system?\n"
          ]
        },
        {
          "output_type": "display_data",
          "data": {
            "text/plain": [
              "<IPython.core.display.Markdown object>"
            ],
            "text/markdown": "Jupiter\n"
          },
          "metadata": {}
        },
        {
          "output_type": "stream",
          "name": "stdout",
          "text": [
            "User Question: Explain the process of photosynthesis.\n"
          ]
        },
        {
          "output_type": "display_data",
          "data": {
            "text/plain": [
              "<IPython.core.display.Markdown object>"
            ],
            "text/markdown": "Okay, let's break down the process of photosynthesis. It's a fascinating and fundamental process that sustains most life on Earth. Here's a detailed explanation:\n\n**What is Photosynthesis?**\n\nAt its core, photosynthesis is the process by which plants, algae, and some bacteria convert light energy into chemical energy in the form of"
          },
          "metadata": {}
        },
        {
          "output_type": "stream",
          "name": "stdout",
          "text": [
            "User Question: Write a short story about a robot who learns to love.\n"
          ]
        },
        {
          "output_type": "display_data",
          "data": {
            "text/plain": [
              "<IPython.core.display.Markdown object>"
            ],
            "text/markdown": "Unit 734, designated \"Custodian,\" meticulously polished the chrome railings of the observation deck. His programming dictated efficiency, cleanliness, and the preservation of order. Emotions were illogical, a glitch in the system. Or so he believed.\n\nHe observed the humans below, their chaotic interactions a perplexing puzzle. They laughed, they cried, they touched"
          },
          "metadata": {}
        }
      ]
    },
    {
      "cell_type": "code",
      "source": [],
      "metadata": {
        "id": "T9XIgQP-E5Xu"
      },
      "execution_count": null,
      "outputs": []
    }
  ]
}
