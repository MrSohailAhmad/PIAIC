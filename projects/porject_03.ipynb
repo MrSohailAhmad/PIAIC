{
  "cells": [
    {
      "cell_type": "code",
      "execution_count": 129,
      "metadata": {
        "id": "C9EdmE2M5xkh"
      },
      "outputs": [],
      "source": [
        "# install pakages\n",
        "!pip install --upgrade -q langchain-google-genai"
      ]
    },
    {
      "cell_type": "code",
      "execution_count": 130,
      "metadata": {
        "id": "1MYXuRP76VLV"
      },
      "outputs": [],
      "source": [
        "from google.colab import userdata\n",
        "# GEMINI API KEY\n",
        "GOOGLE_API_KEY= userdata.get(\"GOOGLE_API_KEY\")\n",
        "# WETAHTER API KEY\n",
        "WEATHER_API_KEY= userdata.get(\"WEATHER_API_KEY\")"
      ]
    },
    {
      "cell_type": "code",
      "execution_count": 131,
      "metadata": {
        "id": "huVaxtno6pJ-"
      },
      "outputs": [],
      "source": [
        "from langchain_google_genai import ChatGoogleGenerativeAI"
      ]
    },
    {
      "cell_type": "code",
      "execution_count": 132,
      "metadata": {
        "id": "W-gW2xeM680L"
      },
      "outputs": [],
      "source": [
        "# configure model and\n",
        "llm = ChatGoogleGenerativeAI(\n",
        "    model=\"gemini-2.0-flash-exp\",\n",
        "    api_key=GOOGLE_API_KEY # GEMINI API KEY\n",
        ")"
      ]
    },
    {
      "cell_type": "code",
      "execution_count": 133,
      "metadata": {
        "id": "wAoh5g1w-ybq"
      },
      "outputs": [],
      "source": [
        "from langchain_core.tools import tool\n",
        "import requests\n",
        "\n",
        "# decorator\n",
        "@tool\n",
        "def annual_return(a:int):\n",
        "  \"\"\"Returns annual return of a number\"\"\"\n",
        "  return (a +15)/5\n",
        "\n",
        "# decorator\n",
        "@tool\n",
        "def add_two_numbers(a:int, b :int):\n",
        "  \"\"\"Returns additional return of a number\"\"\" # this doc string\n",
        "  return (a +b)\n",
        "\n",
        "\n",
        "# decorator\n",
        "@tool\n",
        "def multi(a:int, b:int):\n",
        "    \"\"\"Returns multiply return of a number\"\"\"\n",
        "    return( a*b)\n",
        "\n",
        "\n",
        "\n",
        "\n",
        "\n",
        "\n",
        "@tool\n",
        "def get_weather_data(city: str):\n",
        "    \"\"\"\n",
        "    Fetches weather data for the given city using OpenWeatherMap API.\n",
        "\n",
        "    Args:\n",
        "        city (str): The name of the city to get the weather for.\n",
        "        api_key (str): Your OpenWeatherMap API key.\n",
        "\n",
        "    Returns:\n",
        "        dict: A dictionary containing weather data for the city.\n",
        "    \"\"\"\n",
        "    base_url = f\"https://api.openweathermap.org/data/2.5/weather\"\n",
        "    params = {\n",
        "        \"q\": city,\n",
        "        \"appid\": WEATHER_API_KEY,\n",
        "        \"units\": \"metric\"  # Use \"imperial\" for Fahrenheit\n",
        "    }\n",
        "\n",
        "    try:\n",
        "        response = requests.get(base_url, params=params)\n",
        "        response.raise_for_status()  # Raise an HTTPError for bad responses\n",
        "        weather_data = response.json()\n",
        "        return weather_data\n",
        "    except requests.exceptions.RequestException as e:\n",
        "        return {\"error\": str(e)}\n",
        "\n"
      ]
    },
    {
      "cell_type": "code",
      "execution_count": 134,
      "metadata": {
        "id": "7LykAiZkANah"
      },
      "outputs": [],
      "source": [
        "tools = [ annual_return, multi , add_two_numbers,get_weather_data]"
      ]
    },
    {
      "cell_type": "code",
      "execution_count": 101,
      "metadata": {
        "id": "P7ZB82SP-JRb"
      },
      "outputs": [],
      "source": [
        "llm_with_tools = llm.bind_tools(tools)"
      ]
    },
    {
      "cell_type": "code",
      "execution_count": 153,
      "metadata": {
        "colab": {
          "base_uri": "https://localhost:8080/",
          "height": 34
        },
        "id": "y9zfI2F_-n3b",
        "outputId": "c4143871-7a23-439a-95e4-ab2211a29b87"
      },
      "outputs": [
        {
          "data": {
            "text/plain": [
              "[HumanMessage(content='Q1 What is the weather of lahore ?', additional_kwargs={}, response_metadata={})]"
            ]
          },
          "metadata": {},
          "output_type": "display_data"
        }
      ],
      "source": [
        "from langchain_core.messages import HumanMessage, AIMessage,ToolMessage\n",
        "query = \"Q1 What is the weather of lahore ?\"\n",
        "\n",
        "message = [HumanMessage(query)]\n",
        "\n",
        "display(message)"
      ]
    },
    {
      "cell_type": "code",
      "execution_count": 154,
      "metadata": {
        "colab": {
          "base_uri": "https://localhost:8080/"
        },
        "id": "zJEQvMTHCA6X",
        "outputId": "b9465a2e-6ef7-46f8-f0af-1eb322664074"
      },
      "outputs": [
        {
          "data": {
            "text/plain": [
              "[HumanMessage(content='Q1 What is the weather of lahore ?', additional_kwargs={}, response_metadata={}),\n",
              " [StructuredTool(name='annual_return', description='Returns annual return of a number', args_schema=<class 'langchain_core.utils.pydantic.annual_return'>, func=<function annual_return at 0x7f1063113b50>),\n",
              "  StructuredTool(name='multi', description='Returns multiply return of a number', args_schema=<class 'langchain_core.utils.pydantic.multi'>, func=<function multi at 0x7f1063110040>),\n",
              "  StructuredTool(name='add_two_numbers', description='Returns additional return of a number', args_schema=<class 'langchain_core.utils.pydantic.add_two_numbers'>, func=<function add_two_numbers at 0x7f1063110c10>),\n",
              "  StructuredTool(name='get_weather_data', description='Fetches weather data for the given city using OpenWeatherMap API.\\n\\nArgs:\\n    city (str): The name of the city to get the weather for.\\n    api_key (str): Your OpenWeatherMap API key.\\n\\nReturns:\\n    dict: A dictionary containing weather data for the city.', args_schema=<class 'langchain_core.utils.pydantic.get_weather_data'>, func=<function get_weather_data at 0x7f10631103a0>)]]"
            ]
          },
          "execution_count": 154,
          "metadata": {},
          "output_type": "execute_result"
        }
      ],
      "source": [
        "ai_msg = llm_with_tools.invoke(message)\n",
        "message.append(tools)\n",
        "message"
      ]
    },
    {
      "cell_type": "code",
      "execution_count": 156,
      "metadata": {
        "colab": {
          "base_uri": "https://localhost:8080/"
        },
        "id": "7yaC8J6X9u6B",
        "outputId": "d56e80c5-04eb-43b8-dc15-83328af0b867"
      },
      "outputs": [
        {
          "name": "stdout",
          "output_type": "stream",
          "text": [
            "[{'name': 'get_weather_data', 'args': {'city': 'lahore'}, 'id': '4df81f77-ad40-4642-ab5f-63d47552498f', 'type': 'tool_call'}]\n"
          ]
        }
      ],
      "source": [
        "print(ai_msg.tool_calls)"
      ]
    },
    {
      "cell_type": "code",
      "execution_count": 157,
      "metadata": {
        "colab": {
          "base_uri": "https://localhost:8080/"
        },
        "id": "2JqGJDNNCkk6",
        "outputId": "09fd5bb2-6027-424c-a4a6-f51bec87bf5f"
      },
      "outputs": [
        {
          "data": {
            "text/plain": [
              "[{'name': 'get_weather_data',\n",
              "  'args': {'city': 'lahore'},\n",
              "  'id': '4df81f77-ad40-4642-ab5f-63d47552498f',\n",
              "  'type': 'tool_call'}]"
            ]
          },
          "execution_count": 157,
          "metadata": {},
          "output_type": "execute_result"
        }
      ],
      "source": [
        "ai_msg.tool_calls"
      ]
    },
    {
      "cell_type": "code",
      "execution_count": 158,
      "metadata": {
        "colab": {
          "base_uri": "https://localhost:8080/",
          "height": 86
        },
        "collapsed": true,
        "id": "mAPLm6c-DZGb",
        "outputId": "54561219-8c48-4ee9-8ab7-8a4482d0bf9c"
      },
      "outputs": [
        {
          "data": {
            "text/plain": [
              "ToolMessage(content='{\"coord\": {\"lon\": 74.3436, \"lat\": 31.5497}, \"weather\": [{\"id\": 711, \"main\": \"Smoke\", \"description\": \"smoke\", \"icon\": \"50n\"}], \"base\": \"stations\", \"main\": {\"temp\": 11.99, \"feels_like\": 11.23, \"temp_min\": 11.99, \"temp_max\": 11.99, \"pressure\": 1019, \"humidity\": 76, \"sea_level\": 1019, \"grnd_level\": 993}, \"visibility\": 4000, \"wind\": {\"speed\": 0, \"deg\": 0}, \"clouds\": {\"all\": 0}, \"dt\": 1736793623, \"sys\": {\"type\": 1, \"id\": 7585, \"country\": \"PK\", \"sunrise\": 1736733760, \"sunset\": 1736770765}, \"timezone\": 18000, \"id\": 1172451, \"name\": \"Lahore\", \"cod\": 200}', name='get_weather_data', tool_call_id='4df81f77-ad40-4642-ab5f-63d47552498f')"
            ]
          },
          "metadata": {},
          "output_type": "display_data"
        }
      ],
      "source": [
        "# Invoke the function / tool\n",
        "for tool_call in ai_msg.tool_calls:\n",
        "    selected_tool = {\n",
        "        \"add_two_numbers\": add_two_numbers,\n",
        "        \"multi\": multi,\n",
        "        \"get_weather_data\": get_weather_data,\n",
        "        \"annual_return\":annual_return\n",
        "      }[tool_call[\"name\"].lower()]\n",
        "    tool_msg = selected_tool.invoke(tool_call)\n",
        "    display(tool_msg)\n",
        "    message.append(tool_msg)"
      ]
    },
    {
      "cell_type": "code",
      "execution_count": 166,
      "metadata": {
        "colab": {
          "base_uri": "https://localhost:8080/",
          "height": 70
        },
        "id": "FIN_ZVOrVwzl",
        "outputId": "91b7256f-aa80-4037-acc9-fa4392c1521e"
      },
      "outputs": [
        {
          "data": {
            "application/vnd.google.colaboratory.intrinsic+json": {
              "type": "string"
            },
            "text/plain": [
              "'{\"coord\": {\"lon\": 74.3436, \"lat\": 31.5497}, \"weather\": [{\"id\": 711, \"main\": \"Smoke\", \"description\": \"smoke\", \"icon\": \"50n\"}], \"base\": \"stations\", \"main\": {\"temp\": 11.99, \"feels_like\": 11.23, \"temp_min\": 11.99, \"temp_max\": 11.99, \"pressure\": 1019, \"humidity\": 76, \"sea_level\": 1019, \"grnd_level\": 993}, \"visibility\": 4000, \"wind\": {\"speed\": 0, \"deg\": 0}, \"clouds\": {\"all\": 0}, \"dt\": 1736793623, \"sys\": {\"type\": 1, \"id\": 7585, \"country\": \"PK\", \"sunrise\": 1736733760, \"sunset\": 1736770765}, \"timezone\": 18000, \"id\": 1172451, \"name\": \"Lahore\", \"cod\": 200}'"
            ]
          },
          "metadata": {},
          "output_type": "display_data"
        }
      ],
      "source": [
        "\n",
        "display(tool_msg.content)"
      ]
    },
    {
      "cell_type": "code",
      "execution_count": 168,
      "metadata": {
        "colab": {
          "base_uri": "https://localhost:8080/"
        },
        "id": "_hNVeNZu7Ius",
        "outputId": "1b2b3bf9-6d01-4775-ecea-c2d98e2346f2"
      },
      "outputs": [
        {
          "data": {
            "text/plain": [
              "AIMessage(content='The weather in Lahore is smoke with a temperature of 11.99 degrees Celsius. The wind speed is 0 and the humidity is 76%.', additional_kwargs={}, response_metadata={'prompt_feedback': {'block_reason': 0, 'safety_ratings': []}, 'finish_reason': 'STOP', 'safety_ratings': [{'category': 'HARM_CATEGORY_HATE_SPEECH', 'probability': 'NEGLIGIBLE', 'blocked': False}, {'category': 'HARM_CATEGORY_DANGEROUS_CONTENT', 'probability': 'NEGLIGIBLE', 'blocked': False}, {'category': 'HARM_CATEGORY_HARASSMENT', 'probability': 'NEGLIGIBLE', 'blocked': False}, {'category': 'HARM_CATEGORY_SEXUALLY_EXPLICIT', 'probability': 'NEGLIGIBLE', 'blocked': False}]}, id='run-4f66fa1e-7f96-4d65-b75d-fc219e3437c3-0', usage_metadata={'input_tokens': 528, 'output_tokens': 34, 'total_tokens': 562, 'input_token_details': {'cache_read': 0}})"
            ]
          },
          "execution_count": 168,
          "metadata": {},
          "output_type": "execute_result"
        }
      ],
      "source": [
        "\n",
        "# Invoke the llm\n",
        "response = llm_with_tools.invoke(tool_msg.content)\n",
        "\n"
      ]
    },
    {
      "cell_type": "code",
      "execution_count": 169,
      "metadata": {
        "colab": {
          "base_uri": "https://localhost:8080/",
          "height": 46
        },
        "id": "j0wY2w6--7ga",
        "outputId": "22f83058-8934-4f3c-c47f-f6fe92ebdb74"
      },
      "outputs": [
        {
          "data": {
            "text/markdown": [
              "The weather in Lahore is smoke with a temperature of 11.99 degrees Celsius. The wind speed is 0 and the humidity is 76%."
            ],
            "text/plain": [
              "<IPython.core.display.Markdown object>"
            ]
          },
          "execution_count": 169,
          "metadata": {},
          "output_type": "execute_result"
        }
      ],
      "source": [
        "from IPython.display import Markdown\n",
        "\n",
        "Markdown(response.content)"
      ]
    }
  ],
  "metadata": {
    "colab": {
      "provenance": []
    },
    "kernelspec": {
      "display_name": "Python 3",
      "name": "python3"
    },
    "language_info": {
      "name": "python"
    }
  },
  "nbformat": 4,
  "nbformat_minor": 0
}
