{
  "nbformat": 4,
  "nbformat_minor": 0,
  "metadata": {
    "colab": {
      "provenance": []
    },
    "kernelspec": {
      "name": "python3",
      "display_name": "Python 3"
    },
    "language_info": {
      "name": "python"
    }
  },
  "cells": [
    {
      "cell_type": "code",
      "execution_count": 129,
      "metadata": {
        "id": "C9EdmE2M5xkh"
      },
      "outputs": [],
      "source": [
        "# install pakages\n",
        "!pip install --upgrade -q langchain-google-genai"
      ]
    },
    {
      "cell_type": "code",
      "source": [
        "from google.colab import userdata\n",
        "# GEMINI API KEY\n",
        "GOOGLE_API_KEY= userdata.get(\"GOOGLE_API_KEY\")\n",
        "# WETAHTER API KEY\n",
        "WEATHER_API_KEY= userdata.get(\"WEATHER_API_KEY\")"
      ],
      "metadata": {
        "id": "1MYXuRP76VLV"
      },
      "execution_count": 130,
      "outputs": []
    },
    {
      "cell_type": "code",
      "source": [
        "from langchain_google_genai import ChatGoogleGenerativeAI"
      ],
      "metadata": {
        "id": "huVaxtno6pJ-"
      },
      "execution_count": 131,
      "outputs": []
    },
    {
      "cell_type": "code",
      "source": [
        "# configure model and\n",
        "llm = ChatGoogleGenerativeAI(\n",
        "    model=\"gemini-2.0-flash-exp\",\n",
        "    api_key=GOOGLE_API_KEY # GEMINI API KEY\n",
        ")"
      ],
      "metadata": {
        "id": "W-gW2xeM680L"
      },
      "execution_count": 132,
      "outputs": []
    },
    {
      "cell_type": "code",
      "source": [
        "from langchain_core.tools import tool\n",
        "import requests\n",
        "\n",
        "# decorator\n",
        "@tool\n",
        "def annual_return(a:int):\n",
        "  \"\"\"Returns annual return of a number\"\"\"\n",
        "  return (a +15)/5\n",
        "\n",
        "# decorator\n",
        "@tool\n",
        "def add_two_numbers(a:int, b :int):\n",
        "  \"\"\"Returns additional return of a number\"\"\" # this doc string\n",
        "  return (a +b)\n",
        "\n",
        "\n",
        "# decorator\n",
        "@tool\n",
        "def multi(a:int, b:int):\n",
        "    \"\"\"Returns multiply return of a number\"\"\"\n",
        "    return( a*b)\n",
        "\n",
        "\n",
        "\n",
        "\n",
        "\n",
        "\n",
        "@tool\n",
        "def get_weather_data(city: str):\n",
        "    \"\"\"\n",
        "    Fetches weather data for the given city using OpenWeatherMap API.\n",
        "\n",
        "    Args:\n",
        "        city (str): The name of the city to get the weather for.\n",
        "        api_key (str): Your OpenWeatherMap API key.\n",
        "\n",
        "    Returns:\n",
        "        dict: A dictionary containing weather data for the city.\n",
        "    \"\"\"\n",
        "    base_url = f\"https://api.openweathermap.org/data/2.5/weather\"\n",
        "    params = {\n",
        "        \"q\": city,\n",
        "        \"appid\": WEATHER_API_KEY,\n",
        "        \"units\": \"metric\"  # Use \"imperial\" for Fahrenheit\n",
        "    }\n",
        "\n",
        "    try:\n",
        "        response = requests.get(base_url, params=params)\n",
        "        response.raise_for_status()  # Raise an HTTPError for bad responses\n",
        "        weather_data = response.json()\n",
        "        return weather_data\n",
        "    except requests.exceptions.RequestException as e:\n",
        "        return {\"error\": str(e)}\n",
        "\n"
      ],
      "metadata": {
        "id": "wAoh5g1w-ybq"
      },
      "execution_count": 133,
      "outputs": []
    },
    {
      "cell_type": "code",
      "source": [
        "tools = [ annual_return, multi , add_two_numbers,get_weather_data]"
      ],
      "metadata": {
        "id": "7LykAiZkANah"
      },
      "execution_count": 134,
      "outputs": []
    },
    {
      "cell_type": "code",
      "source": [
        "llm_with_tools = llm.bind_tools(tools)"
      ],
      "metadata": {
        "id": "P7ZB82SP-JRb"
      },
      "execution_count": 101,
      "outputs": []
    },
    {
      "cell_type": "code",
      "source": [
        "response = llm_with_tools.invoke(\"What is the anual return  of 109?\")\n",
        "\n",
        "response"
      ],
      "metadata": {
        "colab": {
          "base_uri": "https://localhost:8080/"
        },
        "id": "AIVz-4mN-eL-",
        "outputId": "5be2a0c7-da9d-4944-f3a4-ea02a5b2c695",
        "collapsed": true
      },
      "execution_count": 102,
      "outputs": [
        {
          "output_type": "execute_result",
          "data": {
            "text/plain": [
              "AIMessage(content='', additional_kwargs={'function_call': {'name': 'annual_return', 'arguments': '{\"a\": 109.0}'}}, response_metadata={'prompt_feedback': {'block_reason': 0, 'safety_ratings': []}, 'finish_reason': 'STOP', 'safety_ratings': [{'category': 'HARM_CATEGORY_HATE_SPEECH', 'probability': 'NEGLIGIBLE', 'blocked': False}, {'category': 'HARM_CATEGORY_DANGEROUS_CONTENT', 'probability': 'NEGLIGIBLE', 'blocked': False}, {'category': 'HARM_CATEGORY_HARASSMENT', 'probability': 'NEGLIGIBLE', 'blocked': False}, {'category': 'HARM_CATEGORY_SEXUALLY_EXPLICIT', 'probability': 'NEGLIGIBLE', 'blocked': False}]}, id='run-3c320352-67cc-4971-a52d-4b0f1e590ef4-0', tool_calls=[{'name': 'annual_return', 'args': {'a': 109.0}, 'id': '625b7ac7-1fc5-40cb-a825-b27a18da89b0', 'type': 'tool_call'}], usage_metadata={'input_tokens': 248, 'output_tokens': 4, 'total_tokens': 252, 'input_token_details': {'cache_read': 0}})"
            ]
          },
          "metadata": {},
          "execution_count": 102
        }
      ]
    },
    {
      "cell_type": "code",
      "source": [
        "from langchain_core.messages import HumanMessage, AIMessage,ToolMessage\n",
        "query = \"Q1 What is the weather of lahore ?\"\n",
        "\n",
        "message = [HumanMessage(query)]\n",
        "\n",
        "display(message)"
      ],
      "metadata": {
        "colab": {
          "base_uri": "https://localhost:8080/",
          "height": 34
        },
        "id": "y9zfI2F_-n3b",
        "outputId": "c4143871-7a23-439a-95e4-ab2211a29b87"
      },
      "execution_count": 153,
      "outputs": [
        {
          "output_type": "display_data",
          "data": {
            "text/plain": [
              "[HumanMessage(content='Q1 What is the weather of lahore ?', additional_kwargs={}, response_metadata={})]"
            ]
          },
          "metadata": {}
        }
      ]
    },
    {
      "cell_type": "code",
      "source": [
        "ai_msg = llm_with_tools.invoke(message)\n",
        "message.append(tools)\n",
        "message"
      ],
      "metadata": {
        "colab": {
          "base_uri": "https://localhost:8080/"
        },
        "id": "zJEQvMTHCA6X",
        "outputId": "b9465a2e-6ef7-46f8-f0af-1eb322664074"
      },
      "execution_count": 154,
      "outputs": [
        {
          "output_type": "execute_result",
          "data": {
            "text/plain": [
              "[HumanMessage(content='Q1 What is the weather of lahore ?', additional_kwargs={}, response_metadata={}),\n",
              " [StructuredTool(name='annual_return', description='Returns annual return of a number', args_schema=<class 'langchain_core.utils.pydantic.annual_return'>, func=<function annual_return at 0x7f1063113b50>),\n",
              "  StructuredTool(name='multi', description='Returns multiply return of a number', args_schema=<class 'langchain_core.utils.pydantic.multi'>, func=<function multi at 0x7f1063110040>),\n",
              "  StructuredTool(name='add_two_numbers', description='Returns additional return of a number', args_schema=<class 'langchain_core.utils.pydantic.add_two_numbers'>, func=<function add_two_numbers at 0x7f1063110c10>),\n",
              "  StructuredTool(name='get_weather_data', description='Fetches weather data for the given city using OpenWeatherMap API.\\n\\nArgs:\\n    city (str): The name of the city to get the weather for.\\n    api_key (str): Your OpenWeatherMap API key.\\n\\nReturns:\\n    dict: A dictionary containing weather data for the city.', args_schema=<class 'langchain_core.utils.pydantic.get_weather_data'>, func=<function get_weather_data at 0x7f10631103a0>)]]"
            ]
          },
          "metadata": {},
          "execution_count": 154
        }
      ]
    },
    {
      "cell_type": "code",
      "source": [
        "print(ai_msg.tool_calls)"
      ],
      "metadata": {
        "colab": {
          "base_uri": "https://localhost:8080/"
        },
        "id": "7yaC8J6X9u6B",
        "outputId": "d56e80c5-04eb-43b8-dc15-83328af0b867"
      },
      "execution_count": 156,
      "outputs": [
        {
          "output_type": "stream",
          "name": "stdout",
          "text": [
            "[{'name': 'get_weather_data', 'args': {'city': 'lahore'}, 'id': '4df81f77-ad40-4642-ab5f-63d47552498f', 'type': 'tool_call'}]\n"
          ]
        }
      ]
    },
    {
      "cell_type": "code",
      "source": [
        "ai_msg.tool_calls"
      ],
      "metadata": {
        "colab": {
          "base_uri": "https://localhost:8080/"
        },
        "id": "2JqGJDNNCkk6",
        "outputId": "09fd5bb2-6027-424c-a4a6-f51bec87bf5f"
      },
      "execution_count": 157,
      "outputs": [
        {
          "output_type": "execute_result",
          "data": {
            "text/plain": [
              "[{'name': 'get_weather_data',\n",
              "  'args': {'city': 'lahore'},\n",
              "  'id': '4df81f77-ad40-4642-ab5f-63d47552498f',\n",
              "  'type': 'tool_call'}]"
            ]
          },
          "metadata": {},
          "execution_count": 157
        }
      ]
    },
    {
      "cell_type": "markdown",
      "source": [
        "whar is the drawbaks of ai tool calling"
      ],
      "metadata": {
        "id": "lb3LRFJQHRg7"
      }
    },
    {
      "cell_type": "markdown",
      "source": [],
      "metadata": {
        "id": "cRQ1Z_2wJseB"
      }
    },
    {
      "cell_type": "markdown",
      "source": [
        "AST_summery means  (abstract syntex tree)"
      ],
      "metadata": {
        "id": "03weYa2kJepH"
      }
    },
    {
      "cell_type": "code",
      "source": [
        "# Invoke the function / tool\n",
        "for tool_call in ai_msg.tool_calls:\n",
        "    selected_tool = {\n",
        "        \"add_two_numbers\": add_two_numbers,\n",
        "        \"multi\": multi,\n",
        "        \"get_weather_data\": get_weather_data,\n",
        "        \"annual_return\":annual_return\n",
        "      }[tool_call[\"name\"].lower()]\n",
        "    tool_msg = selected_tool.invoke(tool_call)\n",
        "    display(tool_msg)\n",
        "    message.append(tool_msg)"
      ],
      "metadata": {
        "colab": {
          "base_uri": "https://localhost:8080/",
          "height": 121
        },
        "id": "mAPLm6c-DZGb",
        "outputId": "54561219-8c48-4ee9-8ab7-8a4482d0bf9c",
        "collapsed": true
      },
      "execution_count": 158,
      "outputs": [
        {
          "output_type": "display_data",
          "data": {
            "text/plain": [
              "ToolMessage(content='{\"coord\": {\"lon\": 74.3436, \"lat\": 31.5497}, \"weather\": [{\"id\": 711, \"main\": \"Smoke\", \"description\": \"smoke\", \"icon\": \"50n\"}], \"base\": \"stations\", \"main\": {\"temp\": 11.99, \"feels_like\": 11.23, \"temp_min\": 11.99, \"temp_max\": 11.99, \"pressure\": 1019, \"humidity\": 76, \"sea_level\": 1019, \"grnd_level\": 993}, \"visibility\": 4000, \"wind\": {\"speed\": 0, \"deg\": 0}, \"clouds\": {\"all\": 0}, \"dt\": 1736793623, \"sys\": {\"type\": 1, \"id\": 7585, \"country\": \"PK\", \"sunrise\": 1736733760, \"sunset\": 1736770765}, \"timezone\": 18000, \"id\": 1172451, \"name\": \"Lahore\", \"cod\": 200}', name='get_weather_data', tool_call_id='4df81f77-ad40-4642-ab5f-63d47552498f')"
            ]
          },
          "metadata": {}
        }
      ]
    },
    {
      "cell_type": "markdown",
      "source": [
        "what is fine tuning\n",
        "crafting means from scratch\n",
        "refining means bar bar wahi process\n",
        "\n",
        "explecit or implecit\n",
        "\n",
        "question or instruction this is zero short\n",
        "\n",
        "1 example 1 short\n",
        "\n",
        "examples then few short\n",
        "\n",
        "\n",
        "chain of thouths\n",
        "Zero-Shot Chain-of-Thought\n",
        "\n",
        "\n",
        "\n",
        "\n",
        "\n",
        "\n"
      ],
      "metadata": {
        "id": "qiU7HoLEMVvC"
      }
    },
    {
      "cell_type": "markdown",
      "source": [],
      "metadata": {
        "id": "Df1ZNGefV-ct"
      }
    },
    {
      "cell_type": "code",
      "source": [
        "\n",
        "display(tool_msg.content)"
      ],
      "metadata": {
        "id": "FIN_ZVOrVwzl",
        "colab": {
          "base_uri": "https://localhost:8080/",
          "height": 105
        },
        "outputId": "91b7256f-aa80-4037-acc9-fa4392c1521e"
      },
      "execution_count": 166,
      "outputs": [
        {
          "output_type": "display_data",
          "data": {
            "text/plain": [
              "'{\"coord\": {\"lon\": 74.3436, \"lat\": 31.5497}, \"weather\": [{\"id\": 711, \"main\": \"Smoke\", \"description\": \"smoke\", \"icon\": \"50n\"}], \"base\": \"stations\", \"main\": {\"temp\": 11.99, \"feels_like\": 11.23, \"temp_min\": 11.99, \"temp_max\": 11.99, \"pressure\": 1019, \"humidity\": 76, \"sea_level\": 1019, \"grnd_level\": 993}, \"visibility\": 4000, \"wind\": {\"speed\": 0, \"deg\": 0}, \"clouds\": {\"all\": 0}, \"dt\": 1736793623, \"sys\": {\"type\": 1, \"id\": 7585, \"country\": \"PK\", \"sunrise\": 1736733760, \"sunset\": 1736770765}, \"timezone\": 18000, \"id\": 1172451, \"name\": \"Lahore\", \"cod\": 200}'"
            ],
            "application/vnd.google.colaboratory.intrinsic+json": {
              "type": "string"
            }
          },
          "metadata": {}
        }
      ]
    },
    {
      "cell_type": "code",
      "source": [
        "\n",
        "# Invoke the llm\n",
        "response = llm_with_tools.invoke(tool_msg.content)\n",
        "\n"
      ],
      "metadata": {
        "colab": {
          "base_uri": "https://localhost:8080/"
        },
        "id": "_hNVeNZu7Ius",
        "outputId": "1b2b3bf9-6d01-4775-ecea-c2d98e2346f2"
      },
      "execution_count": 168,
      "outputs": [
        {
          "output_type": "execute_result",
          "data": {
            "text/plain": [
              "AIMessage(content='The weather in Lahore is smoke with a temperature of 11.99 degrees Celsius. The wind speed is 0 and the humidity is 76%.', additional_kwargs={}, response_metadata={'prompt_feedback': {'block_reason': 0, 'safety_ratings': []}, 'finish_reason': 'STOP', 'safety_ratings': [{'category': 'HARM_CATEGORY_HATE_SPEECH', 'probability': 'NEGLIGIBLE', 'blocked': False}, {'category': 'HARM_CATEGORY_DANGEROUS_CONTENT', 'probability': 'NEGLIGIBLE', 'blocked': False}, {'category': 'HARM_CATEGORY_HARASSMENT', 'probability': 'NEGLIGIBLE', 'blocked': False}, {'category': 'HARM_CATEGORY_SEXUALLY_EXPLICIT', 'probability': 'NEGLIGIBLE', 'blocked': False}]}, id='run-4f66fa1e-7f96-4d65-b75d-fc219e3437c3-0', usage_metadata={'input_tokens': 528, 'output_tokens': 34, 'total_tokens': 562, 'input_token_details': {'cache_read': 0}})"
            ]
          },
          "metadata": {},
          "execution_count": 168
        }
      ]
    },
    {
      "cell_type": "code",
      "source": [
        "from IPython.display import Markdown\n",
        "\n",
        "Markdown(response.content)"
      ],
      "metadata": {
        "colab": {
          "base_uri": "https://localhost:8080/",
          "height": 46
        },
        "id": "j0wY2w6--7ga",
        "outputId": "22f83058-8934-4f3c-c47f-f6fe92ebdb74"
      },
      "execution_count": 169,
      "outputs": [
        {
          "output_type": "execute_result",
          "data": {
            "text/plain": [
              "<IPython.core.display.Markdown object>"
            ],
            "text/markdown": "The weather in Lahore is smoke with a temperature of 11.99 degrees Celsius. The wind speed is 0 and the humidity is 76%."
          },
          "metadata": {},
          "execution_count": 169
        }
      ]
    }
  ]
}